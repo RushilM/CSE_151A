{
  "nbformat": 4,
  "nbformat_minor": 0,
  "metadata": {
    "colab": {
      "provenance": [],
      "include_colab_link": true
    },
    "kernelspec": {
      "name": "python3",
      "display_name": "Python 3"
    },
    "language_info": {
      "name": "python"
    }
  },
  "cells": [
    {
      "cell_type": "markdown",
      "metadata": {
        "id": "view-in-github",
        "colab_type": "text"
      },
      "source": [
        "<a href=\"https://colab.research.google.com/github/RushilM/CSE_151A/blob/main/CSE_151A_Project.ipynb\" target=\"_parent\"><img src=\"https://colab.research.google.com/assets/colab-badge.svg\" alt=\"Open In Colab\"/></a>"
      ]
    },
    {
      "cell_type": "code",
      "execution_count": 92,
      "metadata": {
        "colab": {
          "base_uri": "https://localhost:8080/"
        },
        "id": "fz4A5oeX8Xfe",
        "outputId": "71e8324d-621d-42c9-963a-a4d06d99c38d"
      },
      "outputs": [
        {
          "output_type": "stream",
          "name": "stdout",
          "text": [
            "fatal: destination path 'CSE_151A' already exists and is not an empty directory.\n"
          ]
        }
      ],
      "source": [
        "!git clone https://github.com/devPach4545/CSE_151A.git"
      ]
    },
    {
      "cell_type": "markdown",
      "source": [
        "DATA CLEANING\n",
        "\n",
        "\n"
      ],
      "metadata": {
        "id": "nlCMiZnL_8IP"
      }
    },
    {
      "cell_type": "code",
      "source": [
        "import pandas as pd\n",
        "import numpy as np\n",
        "import seaborn as sns"
      ],
      "metadata": {
        "id": "FIO6CcB9_-V7"
      },
      "execution_count": 93,
      "outputs": []
    },
    {
      "cell_type": "code",
      "source": [
        "'''\n",
        "Just a list of whether or not we can use this field and how we could preprocess it\n",
        "\n",
        "description - no(block of text that is too difficult to interpret)\n",
        "belts - yes(encode as 0 or 1)\n",
        "personal.injury - yes(encode as 0 or 1)\n",
        "property.damage - yes(encode as 0 or 1)\n",
        "commercial.license - yes(encode as 0 or 1)\n",
        "commercial.vehicle - yes(encode as 0 or 1)\n",
        "state - yes (encode the states with one hot encoding)\n",
        "vehicletype - yes(encode the vehicles with one hot encoding)\n",
        "year - yes?(its not a continous number)\n",
        "make - yes(one hot encode the manufacturer)\n",
        "model - yes(one hot encode)\n",
        "color - yes(one hot encode)\n",
        "charge - possible(one hot encode?)\n",
        "did violation contribute to accident - yes(0 or 1)\n",
        "race - yes(one hot)\n",
        "gender - yes(one hot)\n",
        "driver.city - yes(one hot)\n",
        "driver licesnse state - yes(one hot)\n",
        "arrest type - yes (one hot)\n",
        "violation type - yes(one hot)\n",
        "------------------------------------------------------------------------------------------\n",
        "General comments about the data\n",
        "\n",
        "-There are some outliers in the year column. Min is 0 and Max is 9999 which shouldn't be possible. Standard deviation is also 69 which is odd. We might need to just discard data with weird years\n",
        "-Including race and gender might be a little weird(I'm not trying to get expelled).\n",
        "\n",
        "\n",
        "'''"
      ],
      "metadata": {
        "id": "rcAP_5-eZqqb",
        "outputId": "197c9ca8-69ba-49ae-f445-53732bdca7a0",
        "colab": {
          "base_uri": "https://localhost:8080/",
          "height": 122
        }
      },
      "execution_count": 94,
      "outputs": [
        {
          "output_type": "execute_result",
          "data": {
            "text/plain": [
              "\"\\nJust a list of whether or not we can use this field and how we could preprocess it\\n\\ndescription - no(block of text that is too difficult to interpret)\\nbelts - yes(encode as 0 or 1)\\npersonal.injury - yes(encode as 0 or 1)\\nproperty.damage - yes(encode as 0 or 1)\\ncommercial.license - yes(encode as 0 or 1)\\ncommercial.vehicle - yes(encode as 0 or 1)\\nstate - yes (encode the states with one hot encoding)\\nvehicletype - yes(encode the vehicles with one hot encoding)\\nyear - yes?(its not a continous number)\\nmake - yes(one hot encode the manufacturer)\\nmodel - yes(one hot encode)\\ncolor - yes(one hot encode)\\ncharge - possible(one hot encode?)\\ndid violation contribute to accident - yes(0 or 1)\\nrace - yes(one hot)\\ngender - yes(one hot)\\ndriver.city - yes(one hot)\\ndriver licesnse state - yes(one hot)\\narrest type - yes (one hot)\\nviolation type - yes(one hot)\\n------------------------------------------------------------------------------------------\\nGeneral comments about the data\\n\\n-There are some outliers in the year column. Min is 0 and Max is 9999 which shouldn't be possible. Standard deviation is also 69 which is odd. We might need to just discard data with weird years\\n-Including race and gender might be a little weird(I'm not trying to get expelled).\\n\\n\\n\""
            ],
            "application/vnd.google.colaboratory.intrinsic+json": {
              "type": "string"
            }
          },
          "metadata": {},
          "execution_count": 94
        }
      ]
    },
    {
      "cell_type": "code",
      "source": [
        "data = pd.read_csv('/content/CSE_151A/traffic_violations.csv')\n",
        "data"
      ],
      "metadata": {
        "id": "8aeDjAOyD2Y_",
        "colab": {
          "base_uri": "https://localhost:8080/",
          "height": 999
        },
        "outputId": "643daeb5-1794-4ca5-ccc7-3037c82cb1fe"
      },
      "execution_count": 95,
      "outputs": [
        {
          "output_type": "execute_result",
          "data": {
            "text/plain": [
              "                                             Description Belts  \\\n",
              "0      DISPLAYING EXPIRED REGISTRATION PLATE ISSUED B...    No   \n",
              "1      DRIVER FAIL TO STOP AT RED TRAFFIC SIGNAL BEFO...    No   \n",
              "2          DRIVING UNDER THE INFLUENCE OF ALCOHOL PER SE    No   \n",
              "3      PERSON DRIVING MOTOR VEHICLE ON HIGHWAY OR PUB...    No   \n",
              "4      DISPLAYING EXPIRED REGISTRATION PLATE ISSUED B...    No   \n",
              "...                                                  ...   ...   \n",
              "70335         PARKING WHERE PROHIBITED BY OFFICIAL SIGNS    No   \n",
              "70336  FAILURE TO DISPLAY REGISTRATION CARD UPON DEMA...    No   \n",
              "70337  DRIVING VEHICLE ON HIGHWAY WITH SUSPENDED REGI...    No   \n",
              "70338         EXCEEDING THE POSTED SPEED LIMIT OF 30 MPH    No   \n",
              "70339  OPERATING VEHICLE ON HIGHWAY WITH UNAUTHORIZED...    No   \n",
              "\n",
              "      Personal.Injury Property.Damage Commercial.License Commercial.Vehicle  \\\n",
              "0                  No              No                 No                 No   \n",
              "1                  No              No                 No                 No   \n",
              "2                  No              No                 No                 No   \n",
              "3                  No              No                 No                 No   \n",
              "4                  No              No                Yes                 No   \n",
              "...               ...             ...                ...                ...   \n",
              "70335              No              No                 No                 No   \n",
              "70336              No              No                 No                 No   \n",
              "70337              No              No                 No                 No   \n",
              "70338              No              No                 No                 No   \n",
              "70339              No              No                 No                 No   \n",
              "\n",
              "      State      VehicleType    Year     Make  ...   Color    Charge  \\\n",
              "0        NC  02 - Automobile  2013.0  HYUNDAI  ...    GRAY    13411f   \n",
              "1        MD  02 - Automobile  2015.0     FORD  ...  SILVER   21202i1   \n",
              "2        MD  02 - Automobile  2000.0   TOYOTA  ...   BLACK   21902a2   \n",
              "3        MD  02 - Automobile  2012.0     HOND  ...   BLACK    16303c   \n",
              "4        MD  02 - Automobile  2010.0     FORD  ...   BLACK    13411f   \n",
              "...     ...              ...     ...      ...  ...     ...       ...   \n",
              "70335    MD  02 - Automobile  2013.0   TOYOTA  ...  SILVER  211003aa   \n",
              "70336    MD  02 - Automobile  2012.0    LEXUS  ...   BLACK    13409b   \n",
              "70337    MD  02 - Automobile  2005.0     MAZD  ...  ORANGE    13401h   \n",
              "70338    MD  02 - Automobile  2005.0     MERZ  ...  SILVER    218011   \n",
              "70339    MD  02 - Automobile  2003.0     HOND  ...  SILVER   22406i1   \n",
              "\n",
              "      Contributed.To.Accident   Race Gender    Driver.City Driver.State  \\\n",
              "0                          No  WHITE      F      ASHEVILLE           NC   \n",
              "1                          No  OTHER      M  SILVER SPRING           MD   \n",
              "2                          No  BLACK      M  SILVER SPRING           MD   \n",
              "3                          No  BLACK      M       COLUMBIA           MD   \n",
              "4                          No  WHITE      M     MOUNT AIRY           MD   \n",
              "...                       ...    ...    ...            ...          ...   \n",
              "70335                      No  BLACK      F      ROCKVILLE           MD   \n",
              "70336                      No  ASIAN      F   GAITHERSBURG           MD   \n",
              "70337                      No  WHITE      F         MEQUON           WI   \n",
              "70338                      No  WHITE      F     CLARKSBURG           MD   \n",
              "70339                      No  WHITE      F      FREDERICK           MD   \n",
              "\n",
              "      DL.State          Arrest.Type Violation.Type  \n",
              "0           NC    A - Marked Patrol       Citation  \n",
              "1           MD    A - Marked Patrol       Citation  \n",
              "2           MD  B - Unmarked Patrol       Citation  \n",
              "3           MD    A - Marked Patrol       Citation  \n",
              "4           MD    A - Marked Patrol       Citation  \n",
              "...        ...                  ...            ...  \n",
              "70335       MD    A - Marked Patrol        Warning  \n",
              "70336       MD     Q - Marked Laser        Warning  \n",
              "70337       WI    A - Marked Patrol        Warning  \n",
              "70338       MD     Q - Marked Laser        Warning  \n",
              "70339       MD  B - Unmarked Patrol        Warning  \n",
              "\n",
              "[70340 rows x 21 columns]"
            ],
            "text/html": [
              "\n",
              "  <div id=\"df-a8402b8f-4ac0-48e0-b2ee-4b9385b76261\" class=\"colab-df-container\">\n",
              "    <div>\n",
              "<style scoped>\n",
              "    .dataframe tbody tr th:only-of-type {\n",
              "        vertical-align: middle;\n",
              "    }\n",
              "\n",
              "    .dataframe tbody tr th {\n",
              "        vertical-align: top;\n",
              "    }\n",
              "\n",
              "    .dataframe thead th {\n",
              "        text-align: right;\n",
              "    }\n",
              "</style>\n",
              "<table border=\"1\" class=\"dataframe\">\n",
              "  <thead>\n",
              "    <tr style=\"text-align: right;\">\n",
              "      <th></th>\n",
              "      <th>Description</th>\n",
              "      <th>Belts</th>\n",
              "      <th>Personal.Injury</th>\n",
              "      <th>Property.Damage</th>\n",
              "      <th>Commercial.License</th>\n",
              "      <th>Commercial.Vehicle</th>\n",
              "      <th>State</th>\n",
              "      <th>VehicleType</th>\n",
              "      <th>Year</th>\n",
              "      <th>Make</th>\n",
              "      <th>...</th>\n",
              "      <th>Color</th>\n",
              "      <th>Charge</th>\n",
              "      <th>Contributed.To.Accident</th>\n",
              "      <th>Race</th>\n",
              "      <th>Gender</th>\n",
              "      <th>Driver.City</th>\n",
              "      <th>Driver.State</th>\n",
              "      <th>DL.State</th>\n",
              "      <th>Arrest.Type</th>\n",
              "      <th>Violation.Type</th>\n",
              "    </tr>\n",
              "  </thead>\n",
              "  <tbody>\n",
              "    <tr>\n",
              "      <th>0</th>\n",
              "      <td>DISPLAYING EXPIRED REGISTRATION PLATE ISSUED B...</td>\n",
              "      <td>No</td>\n",
              "      <td>No</td>\n",
              "      <td>No</td>\n",
              "      <td>No</td>\n",
              "      <td>No</td>\n",
              "      <td>NC</td>\n",
              "      <td>02 - Automobile</td>\n",
              "      <td>2013.0</td>\n",
              "      <td>HYUNDAI</td>\n",
              "      <td>...</td>\n",
              "      <td>GRAY</td>\n",
              "      <td>13411f</td>\n",
              "      <td>No</td>\n",
              "      <td>WHITE</td>\n",
              "      <td>F</td>\n",
              "      <td>ASHEVILLE</td>\n",
              "      <td>NC</td>\n",
              "      <td>NC</td>\n",
              "      <td>A - Marked Patrol</td>\n",
              "      <td>Citation</td>\n",
              "    </tr>\n",
              "    <tr>\n",
              "      <th>1</th>\n",
              "      <td>DRIVER FAIL TO STOP AT RED TRAFFIC SIGNAL BEFO...</td>\n",
              "      <td>No</td>\n",
              "      <td>No</td>\n",
              "      <td>No</td>\n",
              "      <td>No</td>\n",
              "      <td>No</td>\n",
              "      <td>MD</td>\n",
              "      <td>02 - Automobile</td>\n",
              "      <td>2015.0</td>\n",
              "      <td>FORD</td>\n",
              "      <td>...</td>\n",
              "      <td>SILVER</td>\n",
              "      <td>21202i1</td>\n",
              "      <td>No</td>\n",
              "      <td>OTHER</td>\n",
              "      <td>M</td>\n",
              "      <td>SILVER SPRING</td>\n",
              "      <td>MD</td>\n",
              "      <td>MD</td>\n",
              "      <td>A - Marked Patrol</td>\n",
              "      <td>Citation</td>\n",
              "    </tr>\n",
              "    <tr>\n",
              "      <th>2</th>\n",
              "      <td>DRIVING UNDER THE INFLUENCE OF ALCOHOL PER SE</td>\n",
              "      <td>No</td>\n",
              "      <td>No</td>\n",
              "      <td>No</td>\n",
              "      <td>No</td>\n",
              "      <td>No</td>\n",
              "      <td>MD</td>\n",
              "      <td>02 - Automobile</td>\n",
              "      <td>2000.0</td>\n",
              "      <td>TOYOTA</td>\n",
              "      <td>...</td>\n",
              "      <td>BLACK</td>\n",
              "      <td>21902a2</td>\n",
              "      <td>No</td>\n",
              "      <td>BLACK</td>\n",
              "      <td>M</td>\n",
              "      <td>SILVER SPRING</td>\n",
              "      <td>MD</td>\n",
              "      <td>MD</td>\n",
              "      <td>B - Unmarked Patrol</td>\n",
              "      <td>Citation</td>\n",
              "    </tr>\n",
              "    <tr>\n",
              "      <th>3</th>\n",
              "      <td>PERSON DRIVING MOTOR VEHICLE ON HIGHWAY OR PUB...</td>\n",
              "      <td>No</td>\n",
              "      <td>No</td>\n",
              "      <td>No</td>\n",
              "      <td>No</td>\n",
              "      <td>No</td>\n",
              "      <td>MD</td>\n",
              "      <td>02 - Automobile</td>\n",
              "      <td>2012.0</td>\n",
              "      <td>HOND</td>\n",
              "      <td>...</td>\n",
              "      <td>BLACK</td>\n",
              "      <td>16303c</td>\n",
              "      <td>No</td>\n",
              "      <td>BLACK</td>\n",
              "      <td>M</td>\n",
              "      <td>COLUMBIA</td>\n",
              "      <td>MD</td>\n",
              "      <td>MD</td>\n",
              "      <td>A - Marked Patrol</td>\n",
              "      <td>Citation</td>\n",
              "    </tr>\n",
              "    <tr>\n",
              "      <th>4</th>\n",
              "      <td>DISPLAYING EXPIRED REGISTRATION PLATE ISSUED B...</td>\n",
              "      <td>No</td>\n",
              "      <td>No</td>\n",
              "      <td>No</td>\n",
              "      <td>Yes</td>\n",
              "      <td>No</td>\n",
              "      <td>MD</td>\n",
              "      <td>02 - Automobile</td>\n",
              "      <td>2010.0</td>\n",
              "      <td>FORD</td>\n",
              "      <td>...</td>\n",
              "      <td>BLACK</td>\n",
              "      <td>13411f</td>\n",
              "      <td>No</td>\n",
              "      <td>WHITE</td>\n",
              "      <td>M</td>\n",
              "      <td>MOUNT AIRY</td>\n",
              "      <td>MD</td>\n",
              "      <td>MD</td>\n",
              "      <td>A - Marked Patrol</td>\n",
              "      <td>Citation</td>\n",
              "    </tr>\n",
              "    <tr>\n",
              "      <th>...</th>\n",
              "      <td>...</td>\n",
              "      <td>...</td>\n",
              "      <td>...</td>\n",
              "      <td>...</td>\n",
              "      <td>...</td>\n",
              "      <td>...</td>\n",
              "      <td>...</td>\n",
              "      <td>...</td>\n",
              "      <td>...</td>\n",
              "      <td>...</td>\n",
              "      <td>...</td>\n",
              "      <td>...</td>\n",
              "      <td>...</td>\n",
              "      <td>...</td>\n",
              "      <td>...</td>\n",
              "      <td>...</td>\n",
              "      <td>...</td>\n",
              "      <td>...</td>\n",
              "      <td>...</td>\n",
              "      <td>...</td>\n",
              "      <td>...</td>\n",
              "    </tr>\n",
              "    <tr>\n",
              "      <th>70335</th>\n",
              "      <td>PARKING WHERE PROHIBITED BY OFFICIAL SIGNS</td>\n",
              "      <td>No</td>\n",
              "      <td>No</td>\n",
              "      <td>No</td>\n",
              "      <td>No</td>\n",
              "      <td>No</td>\n",
              "      <td>MD</td>\n",
              "      <td>02 - Automobile</td>\n",
              "      <td>2013.0</td>\n",
              "      <td>TOYOTA</td>\n",
              "      <td>...</td>\n",
              "      <td>SILVER</td>\n",
              "      <td>211003aa</td>\n",
              "      <td>No</td>\n",
              "      <td>BLACK</td>\n",
              "      <td>F</td>\n",
              "      <td>ROCKVILLE</td>\n",
              "      <td>MD</td>\n",
              "      <td>MD</td>\n",
              "      <td>A - Marked Patrol</td>\n",
              "      <td>Warning</td>\n",
              "    </tr>\n",
              "    <tr>\n",
              "      <th>70336</th>\n",
              "      <td>FAILURE TO DISPLAY REGISTRATION CARD UPON DEMA...</td>\n",
              "      <td>No</td>\n",
              "      <td>No</td>\n",
              "      <td>No</td>\n",
              "      <td>No</td>\n",
              "      <td>No</td>\n",
              "      <td>MD</td>\n",
              "      <td>02 - Automobile</td>\n",
              "      <td>2012.0</td>\n",
              "      <td>LEXUS</td>\n",
              "      <td>...</td>\n",
              "      <td>BLACK</td>\n",
              "      <td>13409b</td>\n",
              "      <td>No</td>\n",
              "      <td>ASIAN</td>\n",
              "      <td>F</td>\n",
              "      <td>GAITHERSBURG</td>\n",
              "      <td>MD</td>\n",
              "      <td>MD</td>\n",
              "      <td>Q - Marked Laser</td>\n",
              "      <td>Warning</td>\n",
              "    </tr>\n",
              "    <tr>\n",
              "      <th>70337</th>\n",
              "      <td>DRIVING VEHICLE ON HIGHWAY WITH SUSPENDED REGI...</td>\n",
              "      <td>No</td>\n",
              "      <td>No</td>\n",
              "      <td>No</td>\n",
              "      <td>No</td>\n",
              "      <td>No</td>\n",
              "      <td>MD</td>\n",
              "      <td>02 - Automobile</td>\n",
              "      <td>2005.0</td>\n",
              "      <td>MAZD</td>\n",
              "      <td>...</td>\n",
              "      <td>ORANGE</td>\n",
              "      <td>13401h</td>\n",
              "      <td>No</td>\n",
              "      <td>WHITE</td>\n",
              "      <td>F</td>\n",
              "      <td>MEQUON</td>\n",
              "      <td>WI</td>\n",
              "      <td>WI</td>\n",
              "      <td>A - Marked Patrol</td>\n",
              "      <td>Warning</td>\n",
              "    </tr>\n",
              "    <tr>\n",
              "      <th>70338</th>\n",
              "      <td>EXCEEDING THE POSTED SPEED LIMIT OF 30 MPH</td>\n",
              "      <td>No</td>\n",
              "      <td>No</td>\n",
              "      <td>No</td>\n",
              "      <td>No</td>\n",
              "      <td>No</td>\n",
              "      <td>MD</td>\n",
              "      <td>02 - Automobile</td>\n",
              "      <td>2005.0</td>\n",
              "      <td>MERZ</td>\n",
              "      <td>...</td>\n",
              "      <td>SILVER</td>\n",
              "      <td>218011</td>\n",
              "      <td>No</td>\n",
              "      <td>WHITE</td>\n",
              "      <td>F</td>\n",
              "      <td>CLARKSBURG</td>\n",
              "      <td>MD</td>\n",
              "      <td>MD</td>\n",
              "      <td>Q - Marked Laser</td>\n",
              "      <td>Warning</td>\n",
              "    </tr>\n",
              "    <tr>\n",
              "      <th>70339</th>\n",
              "      <td>OPERATING VEHICLE ON HIGHWAY WITH UNAUTHORIZED...</td>\n",
              "      <td>No</td>\n",
              "      <td>No</td>\n",
              "      <td>No</td>\n",
              "      <td>No</td>\n",
              "      <td>No</td>\n",
              "      <td>MD</td>\n",
              "      <td>02 - Automobile</td>\n",
              "      <td>2003.0</td>\n",
              "      <td>HOND</td>\n",
              "      <td>...</td>\n",
              "      <td>SILVER</td>\n",
              "      <td>22406i1</td>\n",
              "      <td>No</td>\n",
              "      <td>WHITE</td>\n",
              "      <td>F</td>\n",
              "      <td>FREDERICK</td>\n",
              "      <td>MD</td>\n",
              "      <td>MD</td>\n",
              "      <td>B - Unmarked Patrol</td>\n",
              "      <td>Warning</td>\n",
              "    </tr>\n",
              "  </tbody>\n",
              "</table>\n",
              "<p>70340 rows × 21 columns</p>\n",
              "</div>\n",
              "    <div class=\"colab-df-buttons\">\n",
              "\n",
              "  <div class=\"colab-df-container\">\n",
              "    <button class=\"colab-df-convert\" onclick=\"convertToInteractive('df-a8402b8f-4ac0-48e0-b2ee-4b9385b76261')\"\n",
              "            title=\"Convert this dataframe to an interactive table.\"\n",
              "            style=\"display:none;\">\n",
              "\n",
              "  <svg xmlns=\"http://www.w3.org/2000/svg\" height=\"24px\" viewBox=\"0 -960 960 960\">\n",
              "    <path d=\"M120-120v-720h720v720H120Zm60-500h600v-160H180v160Zm220 220h160v-160H400v160Zm0 220h160v-160H400v160ZM180-400h160v-160H180v160Zm440 0h160v-160H620v160ZM180-180h160v-160H180v160Zm440 0h160v-160H620v160Z\"/>\n",
              "  </svg>\n",
              "    </button>\n",
              "\n",
              "  <style>\n",
              "    .colab-df-container {\n",
              "      display:flex;\n",
              "      gap: 12px;\n",
              "    }\n",
              "\n",
              "    .colab-df-convert {\n",
              "      background-color: #E8F0FE;\n",
              "      border: none;\n",
              "      border-radius: 50%;\n",
              "      cursor: pointer;\n",
              "      display: none;\n",
              "      fill: #1967D2;\n",
              "      height: 32px;\n",
              "      padding: 0 0 0 0;\n",
              "      width: 32px;\n",
              "    }\n",
              "\n",
              "    .colab-df-convert:hover {\n",
              "      background-color: #E2EBFA;\n",
              "      box-shadow: 0px 1px 2px rgba(60, 64, 67, 0.3), 0px 1px 3px 1px rgba(60, 64, 67, 0.15);\n",
              "      fill: #174EA6;\n",
              "    }\n",
              "\n",
              "    .colab-df-buttons div {\n",
              "      margin-bottom: 4px;\n",
              "    }\n",
              "\n",
              "    [theme=dark] .colab-df-convert {\n",
              "      background-color: #3B4455;\n",
              "      fill: #D2E3FC;\n",
              "    }\n",
              "\n",
              "    [theme=dark] .colab-df-convert:hover {\n",
              "      background-color: #434B5C;\n",
              "      box-shadow: 0px 1px 3px 1px rgba(0, 0, 0, 0.15);\n",
              "      filter: drop-shadow(0px 1px 2px rgba(0, 0, 0, 0.3));\n",
              "      fill: #FFFFFF;\n",
              "    }\n",
              "  </style>\n",
              "\n",
              "    <script>\n",
              "      const buttonEl =\n",
              "        document.querySelector('#df-a8402b8f-4ac0-48e0-b2ee-4b9385b76261 button.colab-df-convert');\n",
              "      buttonEl.style.display =\n",
              "        google.colab.kernel.accessAllowed ? 'block' : 'none';\n",
              "\n",
              "      async function convertToInteractive(key) {\n",
              "        const element = document.querySelector('#df-a8402b8f-4ac0-48e0-b2ee-4b9385b76261');\n",
              "        const dataTable =\n",
              "          await google.colab.kernel.invokeFunction('convertToInteractive',\n",
              "                                                    [key], {});\n",
              "        if (!dataTable) return;\n",
              "\n",
              "        const docLinkHtml = 'Like what you see? Visit the ' +\n",
              "          '<a target=\"_blank\" href=https://colab.research.google.com/notebooks/data_table.ipynb>data table notebook</a>'\n",
              "          + ' to learn more about interactive tables.';\n",
              "        element.innerHTML = '';\n",
              "        dataTable['output_type'] = 'display_data';\n",
              "        await google.colab.output.renderOutput(dataTable, element);\n",
              "        const docLink = document.createElement('div');\n",
              "        docLink.innerHTML = docLinkHtml;\n",
              "        element.appendChild(docLink);\n",
              "      }\n",
              "    </script>\n",
              "  </div>\n",
              "\n",
              "\n",
              "<div id=\"df-0c308973-1607-4176-be50-075a9866c562\">\n",
              "  <button class=\"colab-df-quickchart\" onclick=\"quickchart('df-0c308973-1607-4176-be50-075a9866c562')\"\n",
              "            title=\"Suggest charts\"\n",
              "            style=\"display:none;\">\n",
              "\n",
              "<svg xmlns=\"http://www.w3.org/2000/svg\" height=\"24px\"viewBox=\"0 0 24 24\"\n",
              "     width=\"24px\">\n",
              "    <g>\n",
              "        <path d=\"M19 3H5c-1.1 0-2 .9-2 2v14c0 1.1.9 2 2 2h14c1.1 0 2-.9 2-2V5c0-1.1-.9-2-2-2zM9 17H7v-7h2v7zm4 0h-2V7h2v10zm4 0h-2v-4h2v4z\"/>\n",
              "    </g>\n",
              "</svg>\n",
              "  </button>\n",
              "\n",
              "<style>\n",
              "  .colab-df-quickchart {\n",
              "      --bg-color: #E8F0FE;\n",
              "      --fill-color: #1967D2;\n",
              "      --hover-bg-color: #E2EBFA;\n",
              "      --hover-fill-color: #174EA6;\n",
              "      --disabled-fill-color: #AAA;\n",
              "      --disabled-bg-color: #DDD;\n",
              "  }\n",
              "\n",
              "  [theme=dark] .colab-df-quickchart {\n",
              "      --bg-color: #3B4455;\n",
              "      --fill-color: #D2E3FC;\n",
              "      --hover-bg-color: #434B5C;\n",
              "      --hover-fill-color: #FFFFFF;\n",
              "      --disabled-bg-color: #3B4455;\n",
              "      --disabled-fill-color: #666;\n",
              "  }\n",
              "\n",
              "  .colab-df-quickchart {\n",
              "    background-color: var(--bg-color);\n",
              "    border: none;\n",
              "    border-radius: 50%;\n",
              "    cursor: pointer;\n",
              "    display: none;\n",
              "    fill: var(--fill-color);\n",
              "    height: 32px;\n",
              "    padding: 0;\n",
              "    width: 32px;\n",
              "  }\n",
              "\n",
              "  .colab-df-quickchart:hover {\n",
              "    background-color: var(--hover-bg-color);\n",
              "    box-shadow: 0 1px 2px rgba(60, 64, 67, 0.3), 0 1px 3px 1px rgba(60, 64, 67, 0.15);\n",
              "    fill: var(--button-hover-fill-color);\n",
              "  }\n",
              "\n",
              "  .colab-df-quickchart-complete:disabled,\n",
              "  .colab-df-quickchart-complete:disabled:hover {\n",
              "    background-color: var(--disabled-bg-color);\n",
              "    fill: var(--disabled-fill-color);\n",
              "    box-shadow: none;\n",
              "  }\n",
              "\n",
              "  .colab-df-spinner {\n",
              "    border: 2px solid var(--fill-color);\n",
              "    border-color: transparent;\n",
              "    border-bottom-color: var(--fill-color);\n",
              "    animation:\n",
              "      spin 1s steps(1) infinite;\n",
              "  }\n",
              "\n",
              "  @keyframes spin {\n",
              "    0% {\n",
              "      border-color: transparent;\n",
              "      border-bottom-color: var(--fill-color);\n",
              "      border-left-color: var(--fill-color);\n",
              "    }\n",
              "    20% {\n",
              "      border-color: transparent;\n",
              "      border-left-color: var(--fill-color);\n",
              "      border-top-color: var(--fill-color);\n",
              "    }\n",
              "    30% {\n",
              "      border-color: transparent;\n",
              "      border-left-color: var(--fill-color);\n",
              "      border-top-color: var(--fill-color);\n",
              "      border-right-color: var(--fill-color);\n",
              "    }\n",
              "    40% {\n",
              "      border-color: transparent;\n",
              "      border-right-color: var(--fill-color);\n",
              "      border-top-color: var(--fill-color);\n",
              "    }\n",
              "    60% {\n",
              "      border-color: transparent;\n",
              "      border-right-color: var(--fill-color);\n",
              "    }\n",
              "    80% {\n",
              "      border-color: transparent;\n",
              "      border-right-color: var(--fill-color);\n",
              "      border-bottom-color: var(--fill-color);\n",
              "    }\n",
              "    90% {\n",
              "      border-color: transparent;\n",
              "      border-bottom-color: var(--fill-color);\n",
              "    }\n",
              "  }\n",
              "</style>\n",
              "\n",
              "  <script>\n",
              "    async function quickchart(key) {\n",
              "      const quickchartButtonEl =\n",
              "        document.querySelector('#' + key + ' button');\n",
              "      quickchartButtonEl.disabled = true;  // To prevent multiple clicks.\n",
              "      quickchartButtonEl.classList.add('colab-df-spinner');\n",
              "      try {\n",
              "        const charts = await google.colab.kernel.invokeFunction(\n",
              "            'suggestCharts', [key], {});\n",
              "      } catch (error) {\n",
              "        console.error('Error during call to suggestCharts:', error);\n",
              "      }\n",
              "      quickchartButtonEl.classList.remove('colab-df-spinner');\n",
              "      quickchartButtonEl.classList.add('colab-df-quickchart-complete');\n",
              "    }\n",
              "    (() => {\n",
              "      let quickchartButtonEl =\n",
              "        document.querySelector('#df-0c308973-1607-4176-be50-075a9866c562 button');\n",
              "      quickchartButtonEl.style.display =\n",
              "        google.colab.kernel.accessAllowed ? 'block' : 'none';\n",
              "    })();\n",
              "  </script>\n",
              "</div>\n",
              "    </div>\n",
              "  </div>\n"
            ]
          },
          "metadata": {},
          "execution_count": 95
        }
      ]
    },
    {
      "cell_type": "code",
      "source": [
        "#Number of observation and variable\n",
        "observation = data.shape[0]\n",
        "print('Number of observation: ',observation)\n",
        "variables = data.shape[1]\n",
        "print('Number of variables: ', variables)"
      ],
      "metadata": {
        "colab": {
          "base_uri": "https://localhost:8080/"
        },
        "id": "k13ijKUBWlNo",
        "outputId": "5f204d68-25b2-4b7f-a236-3c09f977a005"
      },
      "execution_count": 96,
      "outputs": [
        {
          "output_type": "stream",
          "name": "stdout",
          "text": [
            "Number of observation:  70340\n",
            "Number of variables:  21\n"
          ]
        }
      ]
    },
    {
      "cell_type": "code",
      "source": [
        "#Summary Statistics\n",
        "print(data.describe().round(2))"
      ],
      "metadata": {
        "colab": {
          "base_uri": "https://localhost:8080/"
        },
        "id": "PSLfjq_IWlGg",
        "outputId": "f38959f6-90a9-47f4-d2b5-59cdd6cab46b"
      },
      "execution_count": 97,
      "outputs": [
        {
          "output_type": "stream",
          "name": "stdout",
          "text": [
            "           Year\n",
            "count  69906.00\n",
            "mean    2004.95\n",
            "std       69.36\n",
            "min        0.00\n",
            "25%     2002.00\n",
            "50%     2006.00\n",
            "75%     2011.00\n",
            "max     9999.00\n"
          ]
        }
      ]
    },
    {
      "cell_type": "code",
      "source": [
        "# Missing data\n",
        "print(data.isnull().sum())\n"
      ],
      "metadata": {
        "colab": {
          "base_uri": "https://localhost:8080/"
        },
        "id": "MEtDOIS4Wk-d",
        "outputId": "b25b860e-94a4-4b06-8230-98eee4bdc77d"
      },
      "execution_count": 98,
      "outputs": [
        {
          "output_type": "stream",
          "name": "stdout",
          "text": [
            "Description                  0\n",
            "Belts                        0\n",
            "Personal.Injury              0\n",
            "Property.Damage              0\n",
            "Commercial.License           0\n",
            "Commercial.Vehicle           0\n",
            "State                        3\n",
            "VehicleType                  0\n",
            "Year                       434\n",
            "Make                       448\n",
            "Model                      455\n",
            "Color                      888\n",
            "Charge                       0\n",
            "Contributed.To.Accident      0\n",
            "Race                         0\n",
            "Gender                       0\n",
            "Driver.City                  8\n",
            "Driver.State                 0\n",
            "DL.State                    52\n",
            "Arrest.Type                  0\n",
            "Violation.Type               0\n",
            "dtype: int64\n"
          ]
        }
      ]
    },
    {
      "cell_type": "code",
      "source": [
        "# Scales of Data\n",
        "print(\"Data Types:\")\n",
        "print(data.dtypes)\n",
        "print()"
      ],
      "metadata": {
        "colab": {
          "base_uri": "https://localhost:8080/"
        },
        "id": "baDVEc7TYLhk",
        "outputId": "e6c90e88-3c1d-4c6f-d3ce-e6b851b42bd5"
      },
      "execution_count": 99,
      "outputs": [
        {
          "output_type": "stream",
          "name": "stdout",
          "text": [
            "Data Types:\n",
            "Description                 object\n",
            "Belts                       object\n",
            "Personal.Injury             object\n",
            "Property.Damage             object\n",
            "Commercial.License          object\n",
            "Commercial.Vehicle          object\n",
            "State                       object\n",
            "VehicleType                 object\n",
            "Year                       float64\n",
            "Make                        object\n",
            "Model                       object\n",
            "Color                       object\n",
            "Charge                      object\n",
            "Contributed.To.Accident     object\n",
            "Race                        object\n",
            "Gender                      object\n",
            "Driver.City                 object\n",
            "Driver.State                object\n",
            "DL.State                    object\n",
            "Arrest.Type                 object\n",
            "Violation.Type              object\n",
            "dtype: object\n",
            "\n"
          ]
        }
      ]
    },
    {
      "cell_type": "code",
      "source": [
        "# Column Descriptions\n",
        "print(\"Column Descriptions:\")\n",
        "print(data.info())"
      ],
      "metadata": {
        "colab": {
          "base_uri": "https://localhost:8080/"
        },
        "id": "QUcI3UmUYLft",
        "outputId": "fa4bf472-0d43-401f-96c8-55af44f6f998"
      },
      "execution_count": 100,
      "outputs": [
        {
          "output_type": "stream",
          "name": "stdout",
          "text": [
            "Column Descriptions:\n",
            "<class 'pandas.core.frame.DataFrame'>\n",
            "RangeIndex: 70340 entries, 0 to 70339\n",
            "Data columns (total 21 columns):\n",
            " #   Column                   Non-Null Count  Dtype  \n",
            "---  ------                   --------------  -----  \n",
            " 0   Description              70340 non-null  object \n",
            " 1   Belts                    70340 non-null  object \n",
            " 2   Personal.Injury          70340 non-null  object \n",
            " 3   Property.Damage          70340 non-null  object \n",
            " 4   Commercial.License       70340 non-null  object \n",
            " 5   Commercial.Vehicle       70340 non-null  object \n",
            " 6   State                    70337 non-null  object \n",
            " 7   VehicleType              70340 non-null  object \n",
            " 8   Year                     69906 non-null  float64\n",
            " 9   Make                     69892 non-null  object \n",
            " 10  Model                    69885 non-null  object \n",
            " 11  Color                    69452 non-null  object \n",
            " 12  Charge                   70340 non-null  object \n",
            " 13  Contributed.To.Accident  70340 non-null  object \n",
            " 14  Race                     70340 non-null  object \n",
            " 15  Gender                   70340 non-null  object \n",
            " 16  Driver.City              70332 non-null  object \n",
            " 17  Driver.State             70340 non-null  object \n",
            " 18  DL.State                 70288 non-null  object \n",
            " 19  Arrest.Type              70340 non-null  object \n",
            " 20  Violation.Type           70340 non-null  object \n",
            "dtypes: float64(1), object(20)\n",
            "memory usage: 11.3+ MB\n",
            "None\n"
          ]
        }
      ]
    },
    {
      "cell_type": "code",
      "source": [
        "import seaborn as sns\n",
        "import matplotlib.pyplot as plt\n",
        "print(data)"
      ],
      "metadata": {
        "id": "QASTAOPSYLds",
        "colab": {
          "base_uri": "https://localhost:8080/"
        },
        "outputId": "f96ad562-d1c9-4a9f-adef-ca1a288108df"
      },
      "execution_count": 101,
      "outputs": [
        {
          "output_type": "stream",
          "name": "stdout",
          "text": [
            "                                             Description Belts  \\\n",
            "0      DISPLAYING EXPIRED REGISTRATION PLATE ISSUED B...    No   \n",
            "1      DRIVER FAIL TO STOP AT RED TRAFFIC SIGNAL BEFO...    No   \n",
            "2          DRIVING UNDER THE INFLUENCE OF ALCOHOL PER SE    No   \n",
            "3      PERSON DRIVING MOTOR VEHICLE ON HIGHWAY OR PUB...    No   \n",
            "4      DISPLAYING EXPIRED REGISTRATION PLATE ISSUED B...    No   \n",
            "...                                                  ...   ...   \n",
            "70335         PARKING WHERE PROHIBITED BY OFFICIAL SIGNS    No   \n",
            "70336  FAILURE TO DISPLAY REGISTRATION CARD UPON DEMA...    No   \n",
            "70337  DRIVING VEHICLE ON HIGHWAY WITH SUSPENDED REGI...    No   \n",
            "70338         EXCEEDING THE POSTED SPEED LIMIT OF 30 MPH    No   \n",
            "70339  OPERATING VEHICLE ON HIGHWAY WITH UNAUTHORIZED...    No   \n",
            "\n",
            "      Personal.Injury Property.Damage Commercial.License Commercial.Vehicle  \\\n",
            "0                  No              No                 No                 No   \n",
            "1                  No              No                 No                 No   \n",
            "2                  No              No                 No                 No   \n",
            "3                  No              No                 No                 No   \n",
            "4                  No              No                Yes                 No   \n",
            "...               ...             ...                ...                ...   \n",
            "70335              No              No                 No                 No   \n",
            "70336              No              No                 No                 No   \n",
            "70337              No              No                 No                 No   \n",
            "70338              No              No                 No                 No   \n",
            "70339              No              No                 No                 No   \n",
            "\n",
            "      State      VehicleType    Year     Make  ...   Color    Charge  \\\n",
            "0        NC  02 - Automobile  2013.0  HYUNDAI  ...    GRAY    13411f   \n",
            "1        MD  02 - Automobile  2015.0     FORD  ...  SILVER   21202i1   \n",
            "2        MD  02 - Automobile  2000.0   TOYOTA  ...   BLACK   21902a2   \n",
            "3        MD  02 - Automobile  2012.0     HOND  ...   BLACK    16303c   \n",
            "4        MD  02 - Automobile  2010.0     FORD  ...   BLACK    13411f   \n",
            "...     ...              ...     ...      ...  ...     ...       ...   \n",
            "70335    MD  02 - Automobile  2013.0   TOYOTA  ...  SILVER  211003aa   \n",
            "70336    MD  02 - Automobile  2012.0    LEXUS  ...   BLACK    13409b   \n",
            "70337    MD  02 - Automobile  2005.0     MAZD  ...  ORANGE    13401h   \n",
            "70338    MD  02 - Automobile  2005.0     MERZ  ...  SILVER    218011   \n",
            "70339    MD  02 - Automobile  2003.0     HOND  ...  SILVER   22406i1   \n",
            "\n",
            "      Contributed.To.Accident   Race Gender    Driver.City Driver.State  \\\n",
            "0                          No  WHITE      F      ASHEVILLE           NC   \n",
            "1                          No  OTHER      M  SILVER SPRING           MD   \n",
            "2                          No  BLACK      M  SILVER SPRING           MD   \n",
            "3                          No  BLACK      M       COLUMBIA           MD   \n",
            "4                          No  WHITE      M     MOUNT AIRY           MD   \n",
            "...                       ...    ...    ...            ...          ...   \n",
            "70335                      No  BLACK      F      ROCKVILLE           MD   \n",
            "70336                      No  ASIAN      F   GAITHERSBURG           MD   \n",
            "70337                      No  WHITE      F         MEQUON           WI   \n",
            "70338                      No  WHITE      F     CLARKSBURG           MD   \n",
            "70339                      No  WHITE      F      FREDERICK           MD   \n",
            "\n",
            "      DL.State          Arrest.Type Violation.Type  \n",
            "0           NC    A - Marked Patrol       Citation  \n",
            "1           MD    A - Marked Patrol       Citation  \n",
            "2           MD  B - Unmarked Patrol       Citation  \n",
            "3           MD    A - Marked Patrol       Citation  \n",
            "4           MD    A - Marked Patrol       Citation  \n",
            "...        ...                  ...            ...  \n",
            "70335       MD    A - Marked Patrol        Warning  \n",
            "70336       MD     Q - Marked Laser        Warning  \n",
            "70337       WI    A - Marked Patrol        Warning  \n",
            "70338       MD     Q - Marked Laser        Warning  \n",
            "70339       MD  B - Unmarked Patrol        Warning  \n",
            "\n",
            "[70340 rows x 21 columns]\n"
          ]
        }
      ]
    },
    {
      "cell_type": "code",
      "source": [
        "data = data[data['Gender'] != 'U'] # Removing U, only F & M remain\n",
        "data['Gender'].unique()\n",
        "#print(data)"
      ],
      "metadata": {
        "id": "qsKuYyVSYLbm",
        "colab": {
          "base_uri": "https://localhost:8080/"
        },
        "outputId": "47c31705-21a4-404c-e504-830cbf80f78f"
      },
      "execution_count": 102,
      "outputs": [
        {
          "output_type": "execute_result",
          "data": {
            "text/plain": [
              "array(['F', 'M'], dtype=object)"
            ]
          },
          "metadata": {},
          "execution_count": 102
        }
      ]
    },
    {
      "cell_type": "markdown",
      "source": [
        "# New Section"
      ],
      "metadata": {
        "id": "l6Ome3EEH5QT"
      }
    },
    {
      "cell_type": "code",
      "source": [
        "violation_counts = data['Violation.Type'].value_counts()"
      ],
      "metadata": {
        "id": "KskBK4coYLZU"
      },
      "execution_count": 103,
      "outputs": []
    },
    {
      "cell_type": "code",
      "source": [
        "\n",
        "list(data.columns)\n",
        "#data['Violation.Type'].unique()\n",
        "#unique_violation_types = data['Violation.Type']\n",
        "#unique_violation_types"
      ],
      "metadata": {
        "colab": {
          "base_uri": "https://localhost:8080/"
        },
        "id": "hIsPLvjcJ-P1",
        "outputId": "04da9e1a-a7f6-4c3c-f8a8-c403e9049355"
      },
      "execution_count": 104,
      "outputs": [
        {
          "output_type": "execute_result",
          "data": {
            "text/plain": [
              "['Description',\n",
              " 'Belts',\n",
              " 'Personal.Injury',\n",
              " 'Property.Damage',\n",
              " 'Commercial.License',\n",
              " 'Commercial.Vehicle',\n",
              " 'State',\n",
              " 'VehicleType',\n",
              " 'Year',\n",
              " 'Make',\n",
              " 'Model',\n",
              " 'Color',\n",
              " 'Charge',\n",
              " 'Contributed.To.Accident',\n",
              " 'Race',\n",
              " 'Gender',\n",
              " 'Driver.City',\n",
              " 'Driver.State',\n",
              " 'DL.State',\n",
              " 'Arrest.Type',\n",
              " 'Violation.Type']"
            ]
          },
          "metadata": {},
          "execution_count": 104
        }
      ]
    },
    {
      "cell_type": "code",
      "source": [
        "plt.figure(figsize=(10, 6))\n",
        "violation_counts.plot(kind='bar', color=['blue', 'orange'])\n",
        "plt.title('Count of Violation Types')\n",
        "plt.xlabel('Violation Type')\n",
        "plt.ylabel('Count')\n",
        "plt.xticks(rotation=45)\n",
        "plt.show()"
      ],
      "metadata": {
        "id": "I-8_-CMuYLSy",
        "colab": {
          "base_uri": "https://localhost:8080/",
          "height": 600
        },
        "outputId": "b4f1a981-ff1f-413e-90e8-d22563cd7786"
      },
      "execution_count": 105,
      "outputs": [
        {
          "output_type": "display_data",
          "data": {
            "text/plain": [
              "<Figure size 1000x600 with 1 Axes>"
            ],
            "image/png": "[encoded data removed]"
          },
          "metadata": {}
        }
      ]
    },
    {
      "cell_type": "code",
      "source": [
        "list(data.columns)\n",
        "data['Gender'].unique() # maybe drop U?\n"
      ],
      "metadata": {
        "colab": {
          "base_uri": "https://localhost:8080/"
        },
        "id": "jXQz1hF3M15E",
        "outputId": "2d7c172a-9a35-42ba-b0e3-1e28d9e70584"
      },
      "execution_count": 106,
      "outputs": [
        {
          "output_type": "execute_result",
          "data": {
            "text/plain": [
              "array(['F', 'M'], dtype=object)"
            ]
          },
          "metadata": {},
          "execution_count": 106
        }
      ]
    },
    {
      "cell_type": "code",
      "source": [
        "gender_counts = data['Gender'].value_counts()\n",
        "actual_gender_percentages = (gender_counts / gender_counts.sum()) * 100\n",
        "\n",
        "\n",
        "plt.figure(figsize=(8, 8))\n",
        "plt.title('Gender Distribution of Traffic Violations')\n",
        "plt.pie(actual_gender_percentages, labels=actual_gender_percentages.index, autopct='%1.1f%%', startangle=140, colors=['lightcoral', 'skyblue'])"
      ],
      "metadata": {
        "colab": {
          "base_uri": "https://localhost:8080/",
          "height": 779
        },
        "id": "V4KsiNiHPpWH",
        "outputId": "ab32e70a-3386-4435-8477-d95bc3cd7792"
      },
      "execution_count": 107,
      "outputs": [
        {
          "output_type": "execute_result",
          "data": {
            "text/plain": [
              "([<matplotlib.patches.Wedge at 0x7a4314445de0>,\n",
              "  <matplotlib.patches.Wedge at 0x7a4314421330>],\n",
              " [Text(-0.17502219801414964, -1.0859867541560053, 'M'),\n",
              "  Text(0.17502229969156693, 1.0859867377692398, 'F')],\n",
              " [Text(-0.09546665346226343, -0.592356411357821, '67.1%'),\n",
              "  Text(0.09546670892267287, 0.5923564024195852, '32.9%')])"
            ]
          },
          "metadata": {},
          "execution_count": 107
        },
        {
          "output_type": "display_data",
          "data": {
            "text/plain": [
              "<Figure size 800x800 with 1 Axes>"
            ],
            "image/png": "[encoded data removed]"
          },
          "metadata": {}
        }
      ]
    }
  ]
}